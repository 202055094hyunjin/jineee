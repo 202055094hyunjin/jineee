{
 "cells": [
  {
   "cell_type": "code",
   "execution_count": 5,
   "metadata": {},
   "outputs": [
    {
     "name": "stdout",
     "output_type": "stream",
     "text": [
      "Average is 31.875\n",
      "[25, 20, 35, 15, 15, 30, 45, 30]\n",
      "1085\n",
      "Average daily revenue is 155.0\n",
      "['bouffant', 'pixie', 'crew', 'bowl']\n"
     ]
    }
   ],
   "source": [
    "hairstyles = [\"bouffant\", \"pixie\", \"dreadlocks\", \"crew\", \"bowl\", \"bob\", \"mohawk\", \"flattop\"]\n",
    "prices = [30, 25, 40, 20, 20, 35, 50, 35]\n",
    "last_week = [2, 3, 5, 8, 4, 4, 6, 2]\n",
    "  \n",
    "total_price=0\n",
    "for i in range(8):\n",
    "    total_price=total_price+prices[i]\n",
    "average_price=total_price/len(prices)\n",
    "print(\"Average is\",average_price)\n",
    "new_price=[]\n",
    "for i in range(8):\n",
    "    new_price.append(prices[i]-5)\n",
    "print(new_price)\n",
    "\n",
    "total_revenue=0\n",
    "for i in range(len(hairstyles)):\n",
    "    total_revenue=total_revenue+(prices[i]*last_week[i])\n",
    "print(total_revenue)\n",
    "\n",
    "average_daily_revenue=total_revenue/7\n",
    "print(\"Average daily revenue is\",average_daily_revenue)\n",
    "\n",
    "cuts_under_30=[]\n",
    "for i in range(len(new_price) - 1):\n",
    "    if new_price[i]<30:\n",
    "        cuts_under_30.append(hairstyles[i])\n",
    "        \n",
    "print (cuts_under_30)    "
   ]
  },
  {
   "cell_type": "code",
   "execution_count": null,
   "metadata": {},
   "outputs": [],
   "source": []
  }
 ],
 "metadata": {
  "kernelspec": {
   "display_name": "Python 3",
   "language": "python",
   "name": "python3"
  },
  "language_info": {
   "codemirror_mode": {
    "name": "ipython",
    "version": 3
   },
   "file_extension": ".py",
   "mimetype": "text/x-python",
   "name": "python",
   "nbconvert_exporter": "python",
   "pygments_lexer": "ipython3",
   "version": "3.8.5"
  }
 },
 "nbformat": 4,
 "nbformat_minor": 4
}
